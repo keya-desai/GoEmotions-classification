{
 "cells": [
  {
   "cell_type": "code",
   "execution_count": 1,
   "metadata": {},
   "outputs": [
    {
     "name": "stderr",
     "output_type": "stream",
     "text": [
      "/Users/keyadesai/anaconda3/lib/python3.6/site-packages/sklearn/utils/deprecation.py:144: FutureWarning: The sklearn.neighbors.classification module is  deprecated in version 0.22 and will be removed in version 0.24. The corresponding classes / functions should instead be imported from sklearn.neighbors. Anything that cannot be imported from sklearn.neighbors is now part of the private API.\n",
      "  warnings.warn(message, FutureWarning)\n"
     ]
    }
   ],
   "source": [
    "import pandas as pd\n",
    "import seaborn as sns\n",
    "import numpy as np\n",
    "import matplotlib.pyplot as plt\n",
    "import nltk\n",
    "\n",
    "# Bag of words and Tokenizer\n",
    "from nltk.tokenize import sent_tokenize\n",
    "from nltk.tokenize import RegexpTokenizer\n",
    "from nltk.tokenize import TweetTokenizer\n",
    "from sklearn.feature_extraction.text import CountVectorizer\n",
    "from sklearn.feature_extraction.text import TfidfVectorizer  # TF-IDF\n",
    "from sklearn.preprocessing import label_binarize\n",
    "\n",
    "# Classification methods\n",
    "from sklearn.naive_bayes import MultinomialNB   # Naive Bayes\n",
    "from sklearn.tree import DecisionTreeClassifier  # Decision Tree\n",
    "from sklearn.neural_network import MLPClassifier # Multi-Layer Perceptron\n",
    "from sklearn.neighbors.classification import KNeighborsClassifier # KNN\n",
    "\n",
    "\n",
    "# Import scikit-learn metrics module for accuracy calculation\n",
    "from sklearn import metrics"
   ]
  },
  {
   "cell_type": "markdown",
   "metadata": {},
   "source": [
    "### Training data"
   ]
  },
  {
   "cell_type": "code",
   "execution_count": 2,
   "metadata": {},
   "outputs": [
    {
     "data": {
      "text/html": [
       "<div>\n",
       "<style scoped>\n",
       "    .dataframe tbody tr th:only-of-type {\n",
       "        vertical-align: middle;\n",
       "    }\n",
       "\n",
       "    .dataframe tbody tr th {\n",
       "        vertical-align: top;\n",
       "    }\n",
       "\n",
       "    .dataframe thead th {\n",
       "        text-align: right;\n",
       "    }\n",
       "</style>\n",
       "<table border=\"1\" class=\"dataframe\">\n",
       "  <thead>\n",
       "    <tr style=\"text-align: right;\">\n",
       "      <th></th>\n",
       "      <th>text</th>\n",
       "      <th>label</th>\n",
       "      <th>id</th>\n",
       "    </tr>\n",
       "  </thead>\n",
       "  <tbody>\n",
       "    <tr>\n",
       "      <th>0</th>\n",
       "      <td>My favourite food is anything I didn't have to...</td>\n",
       "      <td>27</td>\n",
       "      <td>eebbqej</td>\n",
       "    </tr>\n",
       "    <tr>\n",
       "      <th>1</th>\n",
       "      <td>Now if he does off himself, everyone will thin...</td>\n",
       "      <td>27</td>\n",
       "      <td>ed00q6i</td>\n",
       "    </tr>\n",
       "    <tr>\n",
       "      <th>2</th>\n",
       "      <td>WHY THE FUCK IS BAYLESS ISOING</td>\n",
       "      <td>2</td>\n",
       "      <td>eezlygj</td>\n",
       "    </tr>\n",
       "    <tr>\n",
       "      <th>3</th>\n",
       "      <td>To make her feel threatened</td>\n",
       "      <td>14</td>\n",
       "      <td>ed7ypvh</td>\n",
       "    </tr>\n",
       "    <tr>\n",
       "      <th>4</th>\n",
       "      <td>Dirty Southern Wankers</td>\n",
       "      <td>3</td>\n",
       "      <td>ed0bdzj</td>\n",
       "    </tr>\n",
       "  </tbody>\n",
       "</table>\n",
       "</div>"
      ],
      "text/plain": [
       "                                                text label       id\n",
       "0  My favourite food is anything I didn't have to...    27  eebbqej\n",
       "1  Now if he does off himself, everyone will thin...    27  ed00q6i\n",
       "2                     WHY THE FUCK IS BAYLESS ISOING     2  eezlygj\n",
       "3                        To make her feel threatened    14  ed7ypvh\n",
       "4                             Dirty Southern Wankers     3  ed0bdzj"
      ]
     },
     "execution_count": 2,
     "metadata": {},
     "output_type": "execute_result"
    }
   ],
   "source": [
    "data_path = '../data/'\n",
    "rdfTrain = pd.read_csv(data_path + 'train.tsv', sep = '\\t', header = None, names = ['text', 'label', 'id'])\n",
    "rdfTrain.head()"
   ]
  },
  {
   "cell_type": "markdown",
   "metadata": {},
   "source": [
    "### Dev data"
   ]
  },
  {
   "cell_type": "code",
   "execution_count": 3,
   "metadata": {},
   "outputs": [
    {
     "name": "stdout",
     "output_type": "stream",
     "text": [
      "<class 'pandas.core.frame.DataFrame'>\n",
      "RangeIndex: 5426 entries, 0 to 5425\n",
      "Data columns (total 3 columns):\n",
      " #   Column  Non-Null Count  Dtype \n",
      "---  ------  --------------  ----- \n",
      " 0   text    5426 non-null   object\n",
      " 1   label   5426 non-null   object\n",
      " 2   id      5426 non-null   object\n",
      "dtypes: object(3)\n",
      "memory usage: 127.3+ KB\n"
     ]
    }
   ],
   "source": [
    "# validation set\n",
    "data_path = '../data/'\n",
    "rdfDev = pd.read_csv(data_path + 'dev.tsv', sep = '\\t', header = None, names = ['text', 'label', 'id'])\n",
    "rdfDev.info()"
   ]
  },
  {
   "cell_type": "markdown",
   "metadata": {},
   "source": [
    "#### Neutral/Non-neutral"
   ]
  },
  {
   "cell_type": "code",
   "execution_count": 4,
   "metadata": {},
   "outputs": [],
   "source": [
    "def label_neutral(row):\n",
    "    if row['label'] == '27':\n",
    "        return 1\n",
    "    else:\n",
    "        return 0"
   ]
  },
  {
   "cell_type": "markdown",
   "metadata": {},
   "source": [
    "#### 3 categories: Positive, negative and Neutral"
   ]
  },
  {
   "cell_type": "code",
   "execution_count": 5,
   "metadata": {},
   "outputs": [],
   "source": [
    "pos_labels = ['admiration','approval', 'amusement', 'caring', 'desire', \n",
    "              'excitement', 'gratitude', 'joy', 'love','optimism', 'pride', 'relief']\n",
    "neg_labels = ['anger', 'annoyance', 'disappointment', 'disapproval', 'disgust',\n",
    "              'embarrassment','fear', 'grief', 'nervousness', 'remorse', 'sadness']\n",
    "ambi_labels = ['confusion', 'curiosity', 'realization', 'surprise']"
   ]
  },
  {
   "cell_type": "code",
   "execution_count": 6,
   "metadata": {},
   "outputs": [],
   "source": [
    "emotion_to_idx = {\n",
    "    'admiration' : '0',\n",
    "    'amusement' : '1',\n",
    "    'anger' : '2',\n",
    "    'annoyance' : '3',\n",
    "    'approval' : '4',\n",
    "    'caring' : '5',\n",
    "    'confusion' : '6',\n",
    "    'curiosity' : '7',\n",
    "    'desire' : '8',\n",
    "    'disappointment' : '9',\n",
    "    'disapproval' : '10',\n",
    "    'disgust' : '11',\n",
    "    'embarrassment' : '12',\n",
    "    'excitement' : '13',\n",
    "    'fear' : '14',\n",
    "    'gratitude' : '15',\n",
    "    'grief' : '16',\n",
    "    'joy' : '17',\n",
    "    'love' : '18',\n",
    "    'nervousness' : '19',\n",
    "    'optimism' : '20',\n",
    "    'pride' : '21',\n",
    "    'realization' : '22',\n",
    "    'relief' : '23',\n",
    "    'remorse' : '24',\n",
    "    'sadness' : '25',\n",
    "    'surprise' : '26',\n",
    "    'neutral' : '27'\n",
    "}"
   ]
  },
  {
   "cell_type": "code",
   "execution_count": 7,
   "metadata": {},
   "outputs": [
    {
     "data": {
      "text/plain": [
       "{'0': 'admiration',\n",
       " '1': 'amusement',\n",
       " '2': 'anger',\n",
       " '3': 'annoyance',\n",
       " '4': 'approval',\n",
       " '5': 'caring',\n",
       " '6': 'confusion',\n",
       " '7': 'curiosity',\n",
       " '8': 'desire',\n",
       " '9': 'disappointment',\n",
       " '10': 'disapproval',\n",
       " '11': 'disgust',\n",
       " '12': 'embarrassment',\n",
       " '13': 'excitement',\n",
       " '14': 'fear',\n",
       " '15': 'gratitude',\n",
       " '16': 'grief',\n",
       " '17': 'joy',\n",
       " '18': 'love',\n",
       " '19': 'nervousness',\n",
       " '20': 'optimism',\n",
       " '21': 'pride',\n",
       " '22': 'realization',\n",
       " '23': 'relief',\n",
       " '24': 'remorse',\n",
       " '25': 'sadness',\n",
       " '26': 'surprise',\n",
       " '27': 'neutral'}"
      ]
     },
     "execution_count": 7,
     "metadata": {},
     "output_type": "execute_result"
    }
   ],
   "source": [
    "label_to_emotion = {j:i for i, j in emotion_to_idx.items()}\n",
    "label_to_emotion"
   ]
  },
  {
   "cell_type": "code",
   "execution_count": 8,
   "metadata": {},
   "outputs": [],
   "source": [
    "def label_pos_neg_neutral(row):\n",
    "    '''\n",
    "    Sentiment Analysis label:\n",
    "    0 - Negative\n",
    "    1 - Positive\n",
    "    2 - Neutral/Ambigous\n",
    "    '''\n",
    "    sentiment = [0, 0, 0]\n",
    "    labels = row['label'].split(\",\")\n",
    "    for l in labels:\n",
    "        label = label_to_emotion[l] \n",
    "        if label in pos_labels:\n",
    "            sentiment[1] += 1\n",
    "        elif label in neg_labels:\n",
    "            sentiment[0] += 1\n",
    "        else:\n",
    "            sentiment[2] += 1\n",
    "    return np.argmax(np.array(sentiment))"
   ]
  },
  {
   "cell_type": "code",
   "execution_count": 9,
   "metadata": {},
   "outputs": [],
   "source": [
    "anger_list = [ \"anger\", \"annoyance\", \"disapproval\", \"disgust\"]\n",
    "fear_list = [\"fear\", \"nervousness\"]\n",
    "joy_list = [\"joy\", \"amusement\", \"approval\", \"excitement\", \"gratitude\",\"love\", \"optimism\", \"relief\", \"pride\", \"admiration\", \"desire\", \"caring\"]\n",
    "sadness_list = [\"sadness\", \"disappointment\", \"embarrassment\", \"grief\", \"remorse\"]\n",
    "surprise_list = [\"surprise\", \"realization\", \"confusion\", \"curiosity\"]"
   ]
  },
  {
   "cell_type": "code",
   "execution_count": 10,
   "metadata": {},
   "outputs": [],
   "source": [
    "def label_emotion_group(row):\n",
    "    '''\n",
    "    Groupping Emotion Label:\n",
    "    0 - Anger, 1 - Fear, 2- Joy, \n",
    "    3 - Sadness, 4 - Surprise, 5 - Neutral/Ambigous\n",
    "    '''\n",
    "    sentiment = [0]*6\n",
    "    labels = row['label'].split(\",\")\n",
    "    for l in labels:\n",
    "        if l == '27': \n",
    "            return 5 # Neutral\n",
    "        \n",
    "        label = label_to_emotion[l]\n",
    "        if label in anger_list:\n",
    "            sentiment[0] += 1\n",
    "        elif label in fear_list:\n",
    "            sentiment[1] += 1\n",
    "        elif label in joy_list:\n",
    "            sentiment[2] += 1\n",
    "        elif label in sadness_list:\n",
    "            sentiment[3] += 1\n",
    "        elif label in surprise_list:\n",
    "            sentiment[4] += 1\n",
    "        else:\n",
    "            sentiment[5] += 1\n",
    "    return np.argmax(np.array(sentiment))"
   ]
  },
  {
   "cell_type": "code",
   "execution_count": 11,
   "metadata": {},
   "outputs": [],
   "source": [
    "def transformData(rdfTrain, rdfDev, n_categories = 2):\n",
    "    \n",
    "    dfTrain, dfDev = rdfTrain, rdfDev\n",
    "    if n_categories == 2:\n",
    "        dfTrain[\"class_label\"] = dfTrain.apply(lambda row: label_neutral(row), axis = 1)\n",
    "        dfDev[\"class_label\"] = dfDev.apply(lambda row: label_neutral(row), axis = 1)\n",
    "    \n",
    "    if n_categories == 3:\n",
    "        dfTrain[\"class_label\"] = dfTrain.apply(lambda row: label_pos_neg_neutral(row), axis = 1)\n",
    "        dfDev[\"class_label\"] = dfDev.apply(lambda row: label_pos_neg_neutral(row), axis = 1)\n",
    "        \n",
    "    if n_categories == 6:\n",
    "        dfTrain[\"class_label\"] = dfTrain.apply(lambda row: label_emotion_group(row), axis = 1)\n",
    "        dfDev[\"class_label\"] = dfDev.apply(lambda row: label_emotion_group(row), axis = 1)\n",
    "    \n",
    "    print(\"Training distribution: \", dfTrain.class_label.value_counts())\n",
    "    print(\"Dev data distribution: \", dfDev.class_label.value_counts())\n",
    "        \n",
    "    return dfTrain, dfDev"
   ]
  },
  {
   "cell_type": "markdown",
   "metadata": {},
   "source": [
    "#### Splitting data"
   ]
  },
  {
   "cell_type": "code",
   "execution_count": 12,
   "metadata": {},
   "outputs": [],
   "source": [
    "def splitData(trainFeatures, devFeatures, dfTrain, dfDev):\n",
    "    xTrain, yTrain = trainFeatures, dfTrain['class_label']\n",
    "    xDev, yDev = devFeatures, dfDev['class_label']\n",
    "    \n",
    "    print(\"Dev : \", xDev.shape, yDev.shape)\n",
    "    print(\"Train : \", xTrain.shape, yTrain.shape)\n",
    "    \n",
    "    return xTrain, yTrain, xDev, yDev"
   ]
  },
  {
   "cell_type": "markdown",
   "metadata": {},
   "source": [
    "#### Feature Generation - TFID & Bag of words"
   ]
  },
  {
   "cell_type": "code",
   "execution_count": 13,
   "metadata": {},
   "outputs": [],
   "source": [
    "def featureGeneration(dfTrain, dfDev, method = 'BOW'):\n",
    "    if method == 'BOW':\n",
    "        #tokenizer to remove unwanted elements from out data like symbols and numbers\n",
    "#         token = RegexpTokenizer(r'[a-zA-Z0-9]+')\n",
    "        token = TweetTokenizer(strip_handles=True, reduce_len=True)\n",
    "        cv = CountVectorizer(lowercase=True, stop_words='english', ngram_range = (1,1), tokenizer = token.tokenize)\n",
    "        trainFeatures = cv.fit_transform(dfTrain['text'])\n",
    "        devFeatures = cv.transform(dfDev['text'])\n",
    "    \n",
    "    if method == 'TF-IDF':\n",
    "        tf = TfidfVectorizer()\n",
    "        trainFeatures = tf.fit_transform(dfTrain['text'])\n",
    "        devFeatures = tf.transform(dfDev['text'])\n",
    "        \n",
    "    return trainFeatures, devFeatures"
   ]
  },
  {
   "cell_type": "markdown",
   "metadata": {},
   "source": [
    "#### Modelling - Naive Bayes"
   ]
  },
  {
   "cell_type": "code",
   "execution_count": 14,
   "metadata": {},
   "outputs": [],
   "source": [
    "def naiveBayes(xTrain, yTrain, xDev, yDev):\n",
    "    # Model Generation Using Multinomial Naive Bayes\n",
    "    clf = MultinomialNB().fit(xTrain, yTrain)\n",
    "    predicted= clf.predict(xDev)\n",
    "    print(\"MultinomialNB Accuracy:\", metrics.accuracy_score(yDev, predicted))"
   ]
  },
  {
   "cell_type": "code",
   "execution_count": 94,
   "metadata": {},
   "outputs": [],
   "source": [
    "def model(xTrain, yTrain, xDev, yDev, method = 'Naive Bayes'):\n",
    "    \n",
    "    num_classes = len(yTrain.unique())\n",
    "    print(\"Num classes: \", num_classes)\n",
    "    \n",
    "    if method == 'Naive Bayes':\n",
    "        clf = MultinomialNB()\n",
    "    \n",
    "    if method == 'Decision Trees':\n",
    "        clf = DecisionTreeClassifier()\n",
    "\n",
    "    if method == 'MLP':\n",
    "        clf = MLPClassifier()\n",
    "    \n",
    "    if method == 'KNN':\n",
    "        clf = KNeighborsClassifier(n_neighbors=5)\n",
    "        \n",
    "    clf = clf.fit(xTrain, yTrain)\n",
    "    predicted= clf.predict(xDev)\n",
    "    \n",
    "#   Evaluation metrics\n",
    "\n",
    "    Y_test = label_binarize(yDev, classes=[0, 1, 2])\n",
    "    Y_score = label_binarize(predicted, classes=[0, 1, 2])\n",
    "\n",
    "    acc = metrics.accuracy_score(Y_test, Y_score)\n",
    "    precision = metrics.precision_score(Y_test, Y_score, average='macro')\n",
    "    recall = metrics.recall_score(Y_test, Y_score,average='macro' )\n",
    "    roc_auc = metrics.roc_auc_score(Y_test, Y_score,average='macro')\n",
    "    \n",
    "    f1 = metrics.f1_score(Y_test, Y_score, average='macro')\n",
    "    confusion_matrix = metrics.confusion_matrix(yDev, predicted)\n",
    "\n",
    "    np_Y_test, np_Y_score = np.array(Y_test), np.array(Y_score)\n",
    "    idx = np.where(np_Y_test < 2)\n",
    "    np_Y_test = np_Y_test[idx]\n",
    "    np_Y_score = np_Y_score[idx]\n",
    "    print(np_Y_test.shape, np_Y_score.shape)\n",
    "    fpr, tpr, thresholds = metrics.roc_curve(np_Y_test, np_Y_score)\n",
    "    print(str(acc) + \"\\t\" + str(precision) + \"\\t\" + str(recall) + \"\\t\" + str(f1) + \"\\t\" + str(roc_auc))\n",
    "    print(confusion_matrix)\n",
    "        \n",
    "    #     print(\"Accuracy:\", acc)\n",
    "    #     print(\"Precision:\", precision)\n",
    "    #     print(\"Recall:\", recall)\n",
    "    #     print(\"ROC AUC: \", roc_auc)\n",
    "    #     print(\"f1-score:\", f1)\n",
    "    #     print(\"Confusion Matrix: \\n\", confusion_matrix)\n",
    "    return clf, acc, precision, recall, roc_auc, f1, confusion_matrix, fpr, tpr, thresholds"
   ]
  },
  {
   "cell_type": "markdown",
   "metadata": {},
   "source": [
    "#### Testing"
   ]
  },
  {
   "cell_type": "code",
   "execution_count": 85,
   "metadata": {},
   "outputs": [
    {
     "name": "stdout",
     "output_type": "stream",
     "text": [
      "Training distribution:  2    17021\n",
      "1    16628\n",
      "0     9761\n",
      "Name: class_label, dtype: int64\n",
      "Dev data distribution:  1    2106\n",
      "2    2096\n",
      "0    1224\n",
      "Name: class_label, dtype: int64\n"
     ]
    }
   ],
   "source": [
    "dfTrain, dfDev = transformData(rdfTrain, rdfDev, n_categories = 3)"
   ]
  },
  {
   "cell_type": "code",
   "execution_count": 86,
   "metadata": {},
   "outputs": [
    {
     "name": "stdout",
     "output_type": "stream",
     "text": [
      "Dev :  (5426, 27746) (5426,)\n",
      "Train :  (43410, 27746) (43410,)\n"
     ]
    }
   ],
   "source": [
    "trainFeatures, devFeatures = featureGeneration(dfTrain, dfDev, method = 'BOW')\n",
    "xTrain, yTrain, xDev, yDev = splitData(trainFeatures, devFeatures, dfTrain, dfDev)"
   ]
  },
  {
   "cell_type": "code",
   "execution_count": 87,
   "metadata": {
    "scrolled": true
   },
   "outputs": [
    {
     "name": "stdout",
     "output_type": "stream",
     "text": [
      "Num classes:  3\n",
      "0.6446737928492444\t0.6350305783785551\t0.6134100501585409\t0.6175518343474856\t0.7136099701859755\n",
      "[[ 515  275  434]\n",
      " [ 107 1637  362]\n",
      " [ 232  518 1346]]\n"
     ]
    }
   ],
   "source": [
    "clf = model(xTrain, yTrain, xDev, yDev, method = 'Naive Bayes')"
   ]
  },
  {
   "cell_type": "code",
   "execution_count": 88,
   "metadata": {},
   "outputs": [
    {
     "name": "stdout",
     "output_type": "stream",
     "text": [
      "Num classes:  3\n",
      "0.6201621820862514\t0.6028489478447433\t0.5972603524928526\t0.5993636049659709\t0.7009583382052575\n",
      "[[ 558  239  427]\n",
      " [ 182 1465  459]\n",
      " [ 355  399 1342]]\n"
     ]
    }
   ],
   "source": [
    "clf = model(xTrain, yTrain, xDev, yDev, method = 'Decision Trees')"
   ]
  },
  {
   "cell_type": "code",
   "execution_count": 89,
   "metadata": {},
   "outputs": [
    {
     "name": "stdout",
     "output_type": "stream",
     "text": [
      "Num classes:  3\n",
      "0.643199410246959\t0.6273366377374335\t0.6217137250353336\t0.6237179140443364\t0.7189175889999854\n",
      "[[ 599  228  397]\n",
      " [ 162 1559  385]\n",
      " [ 325  439 1332]]\n"
     ]
    },
    {
     "name": "stderr",
     "output_type": "stream",
     "text": [
      "/Users/prakruti/opt/anaconda3/lib/python3.8/site-packages/sklearn/neural_network/_multilayer_perceptron.py:587: UserWarning: Training interrupted by user.\n",
      "  warnings.warn(\"Training interrupted by user.\")\n"
     ]
    }
   ],
   "source": [
    "clf = model(xTrain, yTrain, xDev, yDev, method = 'MLP')"
   ]
  },
  {
   "cell_type": "code",
   "execution_count": 90,
   "metadata": {},
   "outputs": [
    {
     "name": "stdout",
     "output_type": "stream",
     "text": [
      "Num classes:  3\n",
      "0.5366752672318467\t0.5221607249073861\t0.4971860890822623\t0.49406711962069033\t0.6275996334488428\n",
      "[[ 308  227  689]\n",
      " [ 209 1078  819]\n",
      " [ 264  306 1526]]\n"
     ]
    }
   ],
   "source": [
    "clf = model(xTrain, yTrain, xDev, yDev, method = 'KNN')"
   ]
  },
  {
   "cell_type": "markdown",
   "metadata": {},
   "source": [
    "### Evaluation"
   ]
  },
  {
   "cell_type": "code",
   "execution_count": 19,
   "metadata": {},
   "outputs": [],
   "source": [
    "acc_list = []\n",
    "precision_list = []\n",
    "recall_list = []\n",
    "f1_list = []\n",
    "# confusion_matrix = \n",
    "roc_auc_list = []"
   ]
  },
  {
   "cell_type": "code",
   "execution_count": 88,
   "metadata": {},
   "outputs": [
    {
     "data": {
      "text/plain": [
       "0        2\n",
       "1        2\n",
       "2        0\n",
       "3        0\n",
       "4        0\n",
       "        ..\n",
       "43405    1\n",
       "43406    2\n",
       "43407    0\n",
       "43408    1\n",
       "43409    1\n",
       "Name: class_label, Length: 43410, dtype: int64"
      ]
     },
     "execution_count": 88,
     "metadata": {},
     "output_type": "execute_result"
    }
   ],
   "source": [
    "yTrain"
   ]
  },
  {
   "cell_type": "code",
   "execution_count": 95,
   "metadata": {},
   "outputs": [
    {
     "name": "stdout",
     "output_type": "stream",
     "text": [
      "Num classes:  3\n",
      "(16278,) (16278,)\n",
      "0.5350165868042757\t0.5184507479851588\t0.49495868427041406\t0.49146066340947286\t0.625990618431603\n",
      "[[ 301  231  692]\n",
      " [ 217 1082  807]\n",
      " [ 252  324 1520]]\n"
     ]
    }
   ],
   "source": [
    "clf, acc, precision, recall, roc_auc, f1, confusion_matrix, fpr, tpr, thresholds = model(xTrain, yTrain, xDev, yDev, method = 'KNN')\n"
   ]
  },
  {
   "cell_type": "code",
   "execution_count": 96,
   "metadata": {},
   "outputs": [
    {
     "data": {
      "text/plain": [
       "(array([0.        , 0.23249171, 1.        ]),\n",
       " array([0.        , 0.53501659, 1.        ]),\n",
       " array([2, 1, 0]))"
      ]
     },
     "execution_count": 96,
     "metadata": {},
     "output_type": "execute_result"
    }
   ],
   "source": [
    "fpr, tpr, thresholds"
   ]
  },
  {
   "cell_type": "code",
   "execution_count": 22,
   "metadata": {},
   "outputs": [],
   "source": [
    "acc_list.append(acc)\n",
    "precision_list.append(precision)\n",
    "recall_list.append(recall)\n",
    "roc_auc_list.append(roc_auc)\n",
    "f1_list.append(f1)"
   ]
  },
  {
   "cell_type": "code",
   "execution_count": 23,
   "metadata": {},
   "outputs": [
    {
     "name": "stdout",
     "output_type": "stream",
     "text": [
      "Num classes:  3\n",
      "0.6444894950239587\t0.634880350293078\t0.6132510170796605\t0.6173914339319024\t0.7134802528433225\n",
      "[[ 515  275  434]\n",
      " [ 107 1637  362]\n",
      " [ 232  519 1345]]\n",
      "[[ 515  275  434]\n",
      " [ 107 1637  362]\n",
      " [ 232  519 1345]]\n"
     ]
    }
   ],
   "source": [
    "clf, acc, precision, recall, roc_auc, f1, confusion_matrix = model(xTrain, yTrain, xDev, yDev, method = 'Naive Bayes')\n",
    "print(confusion_matrix)"
   ]
  },
  {
   "cell_type": "code",
   "execution_count": 24,
   "metadata": {},
   "outputs": [],
   "source": [
    "acc_list.append(acc)\n",
    "precision_list.append(precision)\n",
    "recall_list.append(recall)\n",
    "roc_auc_list.append(roc_auc)\n",
    "f1_list.append(f1)"
   ]
  },
  {
   "cell_type": "code",
   "execution_count": 25,
   "metadata": {},
   "outputs": [
    {
     "name": "stdout",
     "output_type": "stream",
     "text": [
      "Num classes:  3\n",
      "0.6098415038702544\t0.590477096183133\t0.5838293733288246\t0.5860548723771274\t0.6915240415219852\n",
      "[[ 518  239  467]\n",
      " [ 177 1456  473]\n",
      " [ 368  393 1335]]\n",
      "[[ 518  239  467]\n",
      " [ 177 1456  473]\n",
      " [ 368  393 1335]]\n"
     ]
    }
   ],
   "source": [
    "clf, acc, precision, recall, roc_auc, f1, confusion_matrix = model(xTrain, yTrain, xDev, yDev, method = 'Decision Trees')"
   ]
  },
  {
   "cell_type": "code",
   "execution_count": 26,
   "metadata": {},
   "outputs": [],
   "source": [
    "acc_list.append(acc)\n",
    "precision_list.append(precision)\n",
    "recall_list.append(recall)\n",
    "roc_auc_list.append(roc_auc)\n",
    "f1_list.append(f1)"
   ]
  },
  {
   "cell_type": "code",
   "execution_count": 27,
   "metadata": {},
   "outputs": [
    {
     "name": "stdout",
     "output_type": "stream",
     "text": [
      "Num classes:  3\n",
      "0.6514928123848138\t0.6357280239000141\t0.6333016759693156\t0.6343716809302775\t0.7273679972856814\n",
      "[[ 638  209  377]\n",
      " [ 179 1542  385]\n",
      " [ 346  395 1355]]\n",
      "[[ 638  209  377]\n",
      " [ 179 1542  385]\n",
      " [ 346  395 1355]]\n"
     ]
    }
   ],
   "source": [
    "clf, acc, precision, recall, roc_auc, f1, confusion_matrix = model(xTrain, yTrain, xDev, yDev, method = 'MLP')"
   ]
  },
  {
   "cell_type": "code",
   "execution_count": 28,
   "metadata": {},
   "outputs": [],
   "source": [
    "acc_list.append(acc)\n",
    "precision_list.append(precision)\n",
    "recall_list.append(recall)\n",
    "roc_auc_list.append(roc_auc)\n",
    "f1_list.append(f1)"
   ]
  },
  {
   "cell_type": "code",
   "execution_count": 43,
   "metadata": {},
   "outputs": [
    {
     "name": "stdout",
     "output_type": "stream",
     "text": [
      "[0.5350165868042757, 0.6444894950239587, 0.6098415038702544, 0.6514928123848138]\n",
      "[0.5184507479851588, 0.634880350293078, 0.590477096183133, 0.6357280239000141]\n",
      "[0.49495868427041406, 0.6132510170796605, 0.5838293733288246, 0.6333016759693156]\n",
      "[0.625990618431603, 0.7134802528433225, 0.6915240415219852, 0.7273679972856814]\n",
      "[0.49146066340947286, 0.6173914339319024, 0.5860548723771274, 0.6343716809302775]\n"
     ]
    }
   ],
   "source": [
    "print(acc_list)\n",
    "print(precision_list)\n",
    "print(recall_list)\n",
    "print(roc_auc_list)\n",
    "print(f1_list)"
   ]
  },
  {
   "cell_type": "code",
   "execution_count": 41,
   "metadata": {},
   "outputs": [],
   "source": [
    "xrange = [1, 2, 3, 4]\n",
    "xlabels = ['KNN', 'Naive Bayes', 'Decision Tree', 'MLP']"
   ]
  },
  {
   "cell_type": "code",
   "execution_count": 40,
   "metadata": {},
   "outputs": [
    {
     "data": {
      "image/png": "[encoded data removed]",
      "text/plain": [
       "<Figure size 432x288 with 1 Axes>"
      ]
     },
     "metadata": {
      "needs_background": "light"
     },
     "output_type": "display_data"
    }
   ],
   "source": [
    "plt.plot(xrange, acc_list, '-ro')\n",
    "plt.xticks(xrange, labels = xlabels)\n",
    "plt.xlabel(\"Model\")\n",
    "plt.ylabel(\"Accuracy\")\n",
    "plt.show()"
   ]
  },
  {
   "cell_type": "code",
   "execution_count": 42,
   "metadata": {},
   "outputs": [
    {
     "data": {
      "image/png": "[encoded data removed]",
      "text/plain": [
       "<Figure size 432x288 with 1 Axes>"
      ]
     },
     "metadata": {
      "needs_background": "light"
     },
     "output_type": "display_data"
    }
   ],
   "source": [
    "plt.plot(xrange, precision_list, '-ro')\n",
    "plt.xticks(xrange, labels = xlabels)\n",
    "plt.xlabel(\"Model\")\n",
    "plt.ylabel(\"Precision\")\n",
    "plt.show()"
   ]
  },
  {
   "cell_type": "code",
   "execution_count": 44,
   "metadata": {},
   "outputs": [
    {
     "data": {
      "image/png": "[encoded data removed]",
      "text/plain": [
       "<Figure size 432x288 with 1 Axes>"
      ]
     },
     "metadata": {
      "needs_background": "light"
     },
     "output_type": "display_data"
    }
   ],
   "source": [
    "plt.plot(xrange, recall_list, '-ro')\n",
    "plt.xticks(xrange, labels = xlabels)\n",
    "plt.xlabel(\"Model\")\n",
    "plt.ylabel(\"Recall\")\n",
    "plt.show()"
   ]
  },
  {
   "cell_type": "code",
   "execution_count": 45,
   "metadata": {},
   "outputs": [
    {
     "data": {
      "image/png": "[encoded data removed]",
      "text/plain": [
       "<Figure size 432x288 with 1 Axes>"
      ]
     },
     "metadata": {
      "needs_background": "light"
     },
     "output_type": "display_data"
    }
   ],
   "source": [
    "plt.plot(xrange, f1_list, '-ro')\n",
    "plt.xticks(xrange, labels = xlabels)\n",
    "plt.xlabel(\"Model\")\n",
    "plt.ylabel(\"F1-score\")\n",
    "plt.show()"
   ]
  },
  {
   "cell_type": "code",
   "execution_count": 82,
   "metadata": {},
   "outputs": [],
   "source": [
    "acc_list = [0.5350165868042757, 0.6444894950239587, 0.6098415038702544, 0.6514928123848138]\n",
    "precision_list = [0.5184507479851588, 0.634880350293078, 0.590477096183133, 0.6357280239000141]\n",
    "recall_list = [0.49495868427041406, 0.6132510170796605, 0.5838293733288246, 0.6333016759693156]\n",
    "f1_list = [0.625990618431603, 0.7134802528433225, 0.6915240415219852, 0.7273679972856814]\n",
    "roc_auc_list = [0.49146066340947286, 0.6173914339319024, 0.5860548723771274, 0.6343716809302775]"
   ]
  },
  {
   "cell_type": "code",
   "execution_count": 83,
   "metadata": {},
   "outputs": [],
   "source": [
    "%matplotlib tk\n",
    "plt.plot(xrange, acc_list, '-ro', label = \"Accuracy\")\n",
    "plt.plot(xrange, precision_list, '-bo', label = \"Precision\")\n",
    "plt.plot(xrange, recall_list, '-yo', label = \"Recall\")\n",
    "plt.plot(xrange, f1_list, '-go', label = \"F1-score\")\n",
    "plt.plot(xrange, roc_auc_list, '-mo', label = \"ROC-AUC\")\n",
    "plt.xticks(xrange, labels = xlabels)\n",
    "plt.xlabel(\"Model\")\n",
    "plt.legend()\n",
    "plt.show()"
   ]
  },
  {
   "cell_type": "markdown",
   "metadata": {},
   "source": [
    "##### Grouping Emotions:"
   ]
  },
  {
   "cell_type": "code",
   "execution_count": 50,
   "metadata": {},
   "outputs": [
    {
     "name": "stdout",
     "output_type": "stream",
     "text": [
      "Training distribution:  2    16327\n",
      "5    14219\n",
      "0     5829\n",
      "4     3888\n",
      "3     2489\n",
      "1      658\n",
      "Name: class_label, dtype: int64\n",
      "Dev data distribution:  2    2067\n",
      "5    1766\n",
      "0     748\n",
      "4     466\n",
      "3     289\n",
      "1      90\n",
      "Name: class_label, dtype: int64\n"
     ]
    }
   ],
   "source": [
    "dfTrain, dfDev = transformData(rdfTrain, rdfDev, n_categories = 6)"
   ]
  },
  {
   "cell_type": "code",
   "execution_count": 51,
   "metadata": {},
   "outputs": [
    {
     "name": "stdout",
     "output_type": "stream",
     "text": [
      "Dev :  (5426, 27746) (5426,)\n",
      "Train :  (43410, 27746) (43410,)\n"
     ]
    }
   ],
   "source": [
    "trainFeatures, devFeatures = featureGeneration(dfTrain, dfDev, method = 'BOW')\n",
    "xTrain, yTrain, xDev, yDev = splitData(trainFeatures, devFeatures, dfTrain, dfDev)"
   ]
  },
  {
   "cell_type": "code",
   "execution_count": 101,
   "metadata": {},
   "outputs": [
    {
     "name": "stdout",
     "output_type": "stream",
     "text": [
      "Num classes:  6\n",
      "0.6295613711758201\t0.7142271939498975\t0.37247120454667626\t0.3604982793189578\t0.6225228344504737\n",
      "[[ 204    0  221    4    7  312]\n",
      " [  12    1   41    1    2   33]\n",
      " [  25    0 1723    2    6  311]\n",
      " [  13    0  136   28    0  112]\n",
      " [  18    0  160    1   54  233]\n",
      " [ 102    0  604    8   28 1024]]\n"
     ]
    }
   ],
   "source": [
    "clf = model(xTrain, yTrain, xDev, yDev, method = 'Naive Bayes')"
   ]
  },
  {
   "cell_type": "code",
   "execution_count": 102,
   "metadata": {},
   "outputs": [
    {
     "name": "stdout",
     "output_type": "stream",
     "text": [
      "Num classes:  6\n",
      "0.6420936232952451\t0.5111299252808686\t0.4358193046317352\t0.4650373620850754\t0.6711264486702068\n",
      "[[ 248    7  148   29   43  273]\n",
      " [  12   24   22    3    5   24]\n",
      " [  89    7 1466   44   66  395]\n",
      " [  42    1   49  104    9   84]\n",
      " [  31    6   70    8  177  174]\n",
      " [ 202    9  365   50  146  994]]\n"
     ]
    }
   ],
   "source": [
    "clf = model(xTrain, yTrain, xDev, yDev, method = 'Decision Trees')"
   ]
  },
  {
   "cell_type": "code",
   "execution_count": 103,
   "metadata": {},
   "outputs": [
    {
     "name": "stdout",
     "output_type": "stream",
     "text": [
      "Num classes:  6\n",
      "0.6653151492812385\t0.5637163698203279\t0.5374462919412974\t0.5501905521246677\t0.7256516899486872\n",
      "[[ 312    9  116   22   44  245]\n",
      " [   7   44   13    2    0   24]\n",
      " [ 110   10 1460   50   53  384]\n",
      " [  31    2   44  111   13   88]\n",
      " [  37    5   70   14  143  197]\n",
      " [ 202   14  322   52  144 1032]]\n"
     ]
    },
    {
     "name": "stderr",
     "output_type": "stream",
     "text": [
      "/Users/prakruti/opt/anaconda3/lib/python3.8/site-packages/sklearn/neural_network/_multilayer_perceptron.py:587: UserWarning: Training interrupted by user.\n",
      "  warnings.warn(\"Training interrupted by user.\")\n"
     ]
    }
   ],
   "source": [
    "clf = model(xTrain, yTrain, xDev, yDev, method = 'MLP')"
   ]
  },
  {
   "cell_type": "code",
   "execution_count": 104,
   "metadata": {},
   "outputs": [
    {
     "name": "stdout",
     "output_type": "stream",
     "text": [
      "Num classes:  6\n",
      "0.5903059343899743\t0.4750822282588765\t0.24938365987200614\t0.29613766531485924\t0.5877274797810733\n",
      "[[ 133    2  143    7   21  442]\n",
      " [  11    3   14    1    4   57]\n",
      " [  90    0 1110   14   36  817]\n",
      " [  15    1   48   32   11  182]\n",
      " [  32    1   69    5   96  263]\n",
      " [ 127    0  271    9  108 1251]]\n"
     ]
    }
   ],
   "source": [
    "clf = model(xTrain, yTrain, xDev, yDev, method = 'KNN')"
   ]
  },
  {
   "cell_type": "code",
   "execution_count": 67,
   "metadata": {},
   "outputs": [],
   "source": [
    "acc_list = []\n",
    "precision_list = []\n",
    "recall_list = []\n",
    "f1_list = []\n",
    "# confusion_matrix = \n",
    "roc_auc_list = []"
   ]
  },
  {
   "cell_type": "code",
   "execution_count": 68,
   "metadata": {},
   "outputs": [
    {
     "name": "stdout",
     "output_type": "stream",
     "text": [
      "Num classes:  6\n",
      "0.5882786583118319\t0.46991349777320995\t0.24622607014393919\t0.2919603699470464\t0.5854260533697785\n",
      "[[ 127    2  147    6   22  444]\n",
      " [  10    3   13    1    5   58]\n",
      " [  99    1 1107   15   35  810]\n",
      " [  16    1   53   30    7  182]\n",
      " [  28    0   77    3   97  261]\n",
      " [ 120    0  271    6   98 1271]]\n"
     ]
    }
   ],
   "source": [
    "clf, acc, precision, recall, roc_auc, f1, confusion_matrix = model(xTrain, yTrain, xDev, yDev, method = 'KNN')"
   ]
  },
  {
   "cell_type": "code",
   "execution_count": 69,
   "metadata": {},
   "outputs": [],
   "source": [
    "acc_list.append(acc)\n",
    "precision_list.append(precision)\n",
    "recall_list.append(recall)\n",
    "roc_auc_list.append(roc_auc)\n",
    "f1_list.append(f1)"
   ]
  },
  {
   "cell_type": "code",
   "execution_count": 70,
   "metadata": {},
   "outputs": [
    {
     "name": "stdout",
     "output_type": "stream",
     "text": [
      "Num classes:  6\n",
      "0.6293770733505345\t0.7141582141582141\t0.37247120454667626\t0.3604514470656203\t0.622473216508626\n",
      "[[ 204    0  221    4    7  312]\n",
      " [  12    1   41    1    2   33]\n",
      " [  25    0 1723    2    6  311]\n",
      " [  13    0  136   28    0  112]\n",
      " [  18    0  160    1   55  232]\n",
      " [ 102    0  605    8   28 1023]]\n"
     ]
    }
   ],
   "source": [
    "clf, acc, precision, recall, roc_auc, f1, confusion_matrix = model(xTrain, yTrain, xDev, yDev, method = 'Naive Bayes')"
   ]
  },
  {
   "cell_type": "code",
   "execution_count": 71,
   "metadata": {},
   "outputs": [],
   "source": [
    "acc_list.append(acc)\n",
    "precision_list.append(precision)\n",
    "recall_list.append(recall)\n",
    "roc_auc_list.append(roc_auc)\n",
    "f1_list.append(f1)"
   ]
  },
  {
   "cell_type": "code",
   "execution_count": 72,
   "metadata": {},
   "outputs": [
    {
     "name": "stdout",
     "output_type": "stream",
     "text": [
      "Num classes:  6\n",
      "0.6496498341319572\t0.5030462682903776\t0.4450474033714877\t0.46980588639747706\t0.677142005239287\n",
      "[[ 251   10  146   31   48  262]\n",
      " [  14   26   18    1    6   25]\n",
      " [  96    9 1469   40   68  385]\n",
      " [  36    1   54  102    8   88]\n",
      " [  26    5   65    7  193  170]\n",
      " [ 205   13  337   51  151 1009]]\n"
     ]
    }
   ],
   "source": [
    "clf, acc, precision, recall, roc_auc, f1, confusion_matrix = model(xTrain, yTrain, xDev, yDev, method = 'Decision Trees')"
   ]
  },
  {
   "cell_type": "code",
   "execution_count": 73,
   "metadata": {},
   "outputs": [],
   "source": [
    "acc_list.append(acc)\n",
    "precision_list.append(precision)\n",
    "recall_list.append(recall)\n",
    "roc_auc_list.append(roc_auc)\n",
    "f1_list.append(f1)"
   ]
  },
  {
   "cell_type": "code",
   "execution_count": 74,
   "metadata": {},
   "outputs": [
    {
     "name": "stdout",
     "output_type": "stream",
     "text": [
      "Num classes:  6\n",
      "0.6586804275709547\t0.5820499227638088\t0.5018535478579874\t0.5344798582367535\t0.706384985322528\n",
      "[[ 295    6  126   27   38  256]\n",
      " [   9   36   11    7    4   23]\n",
      " [ 114    5 1470   59   57  362]\n",
      " [  27    2   42  125   16   77]\n",
      " [  35    5   64   15  151  196]\n",
      " [ 215    5  353   55  114 1024]]\n"
     ]
    },
    {
     "name": "stderr",
     "output_type": "stream",
     "text": [
      "/Users/keyadesai/anaconda3/lib/python3.6/site-packages/sklearn/neural_network/_multilayer_perceptron.py:573: UserWarning: Training interrupted by user.\n",
      "  warnings.warn(\"Training interrupted by user.\")\n"
     ]
    }
   ],
   "source": [
    "clf, acc, precision, recall, roc_auc, f1, confusion_matrix = model(xTrain, yTrain, xDev, yDev, method = 'MLP')"
   ]
  },
  {
   "cell_type": "code",
   "execution_count": 75,
   "metadata": {},
   "outputs": [],
   "source": [
    "acc_list.append(acc)\n",
    "precision_list.append(precision)\n",
    "recall_list.append(recall)\n",
    "roc_auc_list.append(roc_auc)\n",
    "f1_list.append(f1)"
   ]
  },
  {
   "cell_type": "code",
   "execution_count": 76,
   "metadata": {},
   "outputs": [
    {
     "name": "stdout",
     "output_type": "stream",
     "text": [
      "[0.5882786583118319, 0.6293770733505345, 0.6496498341319572, 0.6586804275709547]\n",
      "[0.46991349777320995, 0.7141582141582141, 0.5030462682903776, 0.5820499227638088]\n",
      "[0.24622607014393919, 0.37247120454667626, 0.4450474033714877, 0.5018535478579874]\n",
      "[0.5854260533697785, 0.622473216508626, 0.677142005239287, 0.706384985322528]\n",
      "[0.2919603699470464, 0.3604514470656203, 0.46980588639747706, 0.5344798582367535]\n"
     ]
    }
   ],
   "source": [
    "print(acc_list)\n",
    "print(precision_list)\n",
    "print(recall_list)\n",
    "print(roc_auc_list)\n",
    "print(f1_list)"
   ]
  },
  {
   "cell_type": "code",
   "execution_count": 77,
   "metadata": {},
   "outputs": [],
   "source": [
    "xrange = [1, 2, 3, 4]\n",
    "xlabels = ['KNN', 'Naive Bayes', 'Decision Tree', 'MLP']"
   ]
  },
  {
   "cell_type": "code",
   "execution_count": null,
   "metadata": {},
   "outputs": [],
   "source": [
    "# acc_list = [0.5882786583118319, 0.6293770733505345, 0.6402506450423885, 0.6555473645410984]\n",
    "# precision_list = [0.46991349777320995, 0.7141582141582141, 0.5053421640532795, 0.5547886488734183]\n",
    "# recall_list = [0.24622607014393919, 0.37247120454667626, 0.44675361428968535, 0.5254788270881501]\n",
    "# f1_list = [0.5854260533697785, 0.622473216508626, 0.6757904338872476, 0.7148184002554202]\n",
    "# roc_auc_list = [0.2919603699470464, 0.3604514470656203, 0.4707168155394361, 0.5384150647777668]"
   ]
  },
  {
   "cell_type": "code",
   "execution_count": 81,
   "metadata": {},
   "outputs": [],
   "source": [
    "%matplotlib tk\n",
    "plt.plot(xrange, acc_list, '-ro', label = \"Accuracy\")\n",
    "plt.plot(xrange, precision_list, '-bo', label = \"Precision\")\n",
    "plt.plot(xrange, recall_list, '-yo', label = \"Recall\")\n",
    "plt.plot(xrange, f1_list, '-go', label = \"F1-score\")\n",
    "plt.plot(xrange, roc_auc_list, '-mo', label = \"ROC - AUC\")\n",
    "plt.xticks(xrange, labels = xlabels)\n",
    "plt.xlabel(\"Model\")\n",
    "plt.legend()\n",
    "plt.show()"
   ]
  }
 ],
 "metadata": {
  "kernelspec": {
   "display_name": "Python 3",
   "language": "python",
   "name": "python3"
  },
  "language_info": {
   "codemirror_mode": {
    "name": "ipython",
    "version": 3
   },
   "file_extension": ".py",
   "mimetype": "text/x-python",
   "name": "python",
   "nbconvert_exporter": "python",
   "pygments_lexer": "ipython3",
   "version": "3.6.10"
  }
 },
 "nbformat": 4,
 "nbformat_minor": 4
}
