{
 "cells": [
  {
   "cell_type": "code",
   "execution_count": 28,
   "metadata": {},
   "outputs": [],
   "source": [
    "import pandas as pd\n",
    "# import seaborn as sns\n",
    "import numpy as np\n",
    "# import matplotlib.pyplot as plt\n",
    "import nltk\n",
    "from nltk.tokenize import sent_tokenize\n",
    "\n",
    "# Bag of words\n",
    "from sklearn.feature_extraction.text import CountVectorizer\n",
    "from nltk.tokenize import RegexpTokenizer\n",
    "\n",
    "# Naive Bayes\n",
    "from sklearn.naive_bayes import MultinomialNB\n",
    "# Import scikit-learn metrics module for accuracy calculation\n",
    "from sklearn import metrics\n",
    "\n",
    "# TF-IDF\n",
    "from sklearn.feature_extraction.text import TfidfVectorizer\n",
    "\n",
    "# Decision Tree\n",
    "from sklearn.tree import DecisionTreeClassifier\n",
    "\n",
    "# Multilayer Perceptron\n",
    "from sklearn.neural_network import MLPClassifier"
   ]
  },
  {
   "cell_type": "markdown",
   "metadata": {},
   "source": [
    "### Training data"
   ]
  },
  {
   "cell_type": "code",
   "execution_count": 2,
   "metadata": {},
   "outputs": [
    {
     "data": {
      "text/html": [
       "<div>\n",
       "<style scoped>\n",
       "    .dataframe tbody tr th:only-of-type {\n",
       "        vertical-align: middle;\n",
       "    }\n",
       "\n",
       "    .dataframe tbody tr th {\n",
       "        vertical-align: top;\n",
       "    }\n",
       "\n",
       "    .dataframe thead th {\n",
       "        text-align: right;\n",
       "    }\n",
       "</style>\n",
       "<table border=\"1\" class=\"dataframe\">\n",
       "  <thead>\n",
       "    <tr style=\"text-align: right;\">\n",
       "      <th></th>\n",
       "      <th>text</th>\n",
       "      <th>label</th>\n",
       "      <th>id</th>\n",
       "    </tr>\n",
       "  </thead>\n",
       "  <tbody>\n",
       "    <tr>\n",
       "      <th>0</th>\n",
       "      <td>My favourite food is anything I didn't have to...</td>\n",
       "      <td>27</td>\n",
       "      <td>eebbqej</td>\n",
       "    </tr>\n",
       "    <tr>\n",
       "      <th>1</th>\n",
       "      <td>Now if he does off himself, everyone will thin...</td>\n",
       "      <td>27</td>\n",
       "      <td>ed00q6i</td>\n",
       "    </tr>\n",
       "    <tr>\n",
       "      <th>2</th>\n",
       "      <td>WHY THE FUCK IS BAYLESS ISOING</td>\n",
       "      <td>2</td>\n",
       "      <td>eezlygj</td>\n",
       "    </tr>\n",
       "    <tr>\n",
       "      <th>3</th>\n",
       "      <td>To make her feel threatened</td>\n",
       "      <td>14</td>\n",
       "      <td>ed7ypvh</td>\n",
       "    </tr>\n",
       "    <tr>\n",
       "      <th>4</th>\n",
       "      <td>Dirty Southern Wankers</td>\n",
       "      <td>3</td>\n",
       "      <td>ed0bdzj</td>\n",
       "    </tr>\n",
       "  </tbody>\n",
       "</table>\n",
       "</div>"
      ],
      "text/plain": [
       "                                                text label       id\n",
       "0  My favourite food is anything I didn't have to...    27  eebbqej\n",
       "1  Now if he does off himself, everyone will thin...    27  ed00q6i\n",
       "2                     WHY THE FUCK IS BAYLESS ISOING     2  eezlygj\n",
       "3                        To make her feel threatened    14  ed7ypvh\n",
       "4                             Dirty Southern Wankers     3  ed0bdzj"
      ]
     },
     "execution_count": 2,
     "metadata": {},
     "output_type": "execute_result"
    }
   ],
   "source": [
    "data_path = '../data/'\n",
    "rdfTrain = pd.read_csv(data_path + 'train.tsv', sep = '\\t', header = None, names = ['text', 'label', 'id'])\n",
    "rdfTrain.head()"
   ]
  },
  {
   "cell_type": "markdown",
   "metadata": {},
   "source": [
    "### Dev data"
   ]
  },
  {
   "cell_type": "code",
   "execution_count": 3,
   "metadata": {},
   "outputs": [
    {
     "name": "stdout",
     "output_type": "stream",
     "text": [
      "<class 'pandas.core.frame.DataFrame'>\n",
      "RangeIndex: 5426 entries, 0 to 5425\n",
      "Data columns (total 3 columns):\n",
      " #   Column  Non-Null Count  Dtype \n",
      "---  ------  --------------  ----- \n",
      " 0   text    5426 non-null   object\n",
      " 1   label   5426 non-null   object\n",
      " 2   id      5426 non-null   object\n",
      "dtypes: object(3)\n",
      "memory usage: 127.3+ KB\n"
     ]
    }
   ],
   "source": [
    "# validation set\n",
    "data_path = '../data/'\n",
    "rdfDev = pd.read_csv(data_path + 'dev.tsv', sep = '\\t', header = None, names = ['text', 'label', 'id'])\n",
    "rdfDev.info()"
   ]
  },
  {
   "cell_type": "markdown",
   "metadata": {},
   "source": [
    "#### Neutral/Non-neutral"
   ]
  },
  {
   "cell_type": "code",
   "execution_count": 4,
   "metadata": {},
   "outputs": [],
   "source": [
    "def label_neutral(row):\n",
    "    if row['label'] == '27':\n",
    "        return 1\n",
    "    else:\n",
    "        return 0"
   ]
  },
  {
   "cell_type": "markdown",
   "metadata": {},
   "source": [
    "## 3 categories"
   ]
  },
  {
   "cell_type": "code",
   "execution_count": null,
   "metadata": {},
   "outputs": [],
   "source": [
    "# def label_pos_neg_neutral(row):\n",
    "    "
   ]
  },
  {
   "cell_type": "code",
   "execution_count": 5,
   "metadata": {},
   "outputs": [],
   "source": [
    "def transformData(rdfTrain, rdfDev, n_categories = 2):\n",
    "    \n",
    "    dfTrain, dfDev = rdfTrain, rdfDev\n",
    "    if n_categories == 2:\n",
    "        dfTrain[\"neutral\"] = dfTrain.apply(lambda row: label_neutral(row), axis = 1)\n",
    "        dfDev[\"neutral\"] = dfDev.apply(lambda row: label_neutral(row), axis = 1)\n",
    "    \n",
    "    if n_categories == 3:\n",
    "        dfTrain[\"neutral\"] = dfTrain.apply(lambda row: label_pos_neg_neutral(row), axis = 1)\n",
    "        dfDev[\"neutral\"] = dfDev.apply(lambda row: label_pos_neg_neutral(row), axis = 1)\n",
    "    \n",
    "    print(\"Training distribution: \", dfTrain.neutral.value_counts())\n",
    "    print(\"Dev data distribution: \", dfDev.neutral.value_counts())\n",
    "        \n",
    "    return dfTrain, dfDev"
   ]
  },
  {
   "cell_type": "markdown",
   "metadata": {},
   "source": [
    "#### Splitting data"
   ]
  },
  {
   "cell_type": "code",
   "execution_count": 6,
   "metadata": {},
   "outputs": [],
   "source": [
    "def splitData(trainFeatures, devFeatures, dfTrain, dfDev):\n",
    "    xTrain, yTrain = trainFeatures, dfTrain['neutral']\n",
    "    xDev, yDev = devFeatures, dfDev['neutral']\n",
    "    \n",
    "#     print(\"Dev - \", xDev.shape, yDev.shape)\n",
    "#     print(\"Train - \", xTrain.shape, yTrain.shape)\n",
    "    \n",
    "    return xTrain, yTrain, xDev, yDev"
   ]
  },
  {
   "cell_type": "markdown",
   "metadata": {},
   "source": [
    "#### Feature Generation - TFID & Bag of words"
   ]
  },
  {
   "cell_type": "code",
   "execution_count": 31,
   "metadata": {},
   "outputs": [],
   "source": [
    "def featureGeneration(dfTrain, dfDev, method = 'BOW'):\n",
    "    if method == 'BOW':\n",
    "        #tokenizer to remove unwanted elements from out data like symbols and numbers\n",
    "        token = RegexpTokenizer(r'[a-zA-Z0-9]+')\n",
    "        cv = CountVectorizer(lowercase=True, stop_words='english', ngram_range = (1,1), tokenizer = token.tokenize)\n",
    "        trainFeatures = cv.fit_transform(dfTrain['text'])\n",
    "        devFeatures = cv.transform(dfDev['text'])\n",
    "    \n",
    "    if method == 'TF-IDF':\n",
    "        tf = TfidfVectorizer()\n",
    "        trainFeatures = tf.fit_transform(dfTrain['text'])\n",
    "        devFeatures = tf.transform(dfDev['text'])\n",
    "        \n",
    "    return trainFeatures, devFeatures"
   ]
  },
  {
   "cell_type": "markdown",
   "metadata": {},
   "source": [
    "#### Modelling - Naive Bayes"
   ]
  },
  {
   "cell_type": "code",
   "execution_count": 8,
   "metadata": {},
   "outputs": [],
   "source": [
    "def naiveBayes(xTrain, yTrain, xDev, yDev):\n",
    "    # Model Generation Using Multinomial Naive Bayes\n",
    "    clf = MultinomialNB().fit(xTrain, yTrain)\n",
    "    predicted= clf.predict(xDev)\n",
    "    print(\"MultinomialNB Accuracy:\", metrics.accuracy_score(yDev, predicted))"
   ]
  },
  {
   "cell_type": "code",
   "execution_count": 53,
   "metadata": {},
   "outputs": [],
   "source": [
    "def model(xTrain, yTrain, xDev, yDev, method = 'Naive Bayes'):\n",
    "    \n",
    "    if method == 'Naive Bayes':\n",
    "        clf = MultinomialNB()\n",
    "    \n",
    "    if method == 'Decision Trees':\n",
    "        clf = DecisionTreeClassifier()\n",
    "\n",
    "    if method == 'MLP':\n",
    "        clf = MLPClassifier()\n",
    "        \n",
    "#     if method == 'SVM':\n",
    "        \n",
    "        \n",
    "    clf = clf.fit(xTrain, yTrain)\n",
    "    predicted= clf.predict(xDev)\n",
    "    \n",
    "#     metrics\n",
    "    acc = metrics.accuracy_score(yDev, predicted)\n",
    "    precision = metrics.precision_score(yDev, predicted)\n",
    "    recall = metrics.recall_score(yDev, predicted)\n",
    "    roc_auc = metrics.roc_auc_score(yDev, predicted)\n",
    "    f1 = metrics.f1_score(yDev, predicted)\n",
    "    confusion_matrix = metrics.confusion_matrix(yDev, predicted)\n",
    "#     print(\"Accuracy:\", acc)\n",
    "#     print(\"Precision:\", precision)\n",
    "#     print(\"Recall:\", recall)\n",
    "#     print(\"ROC AUC: \", roc_auc)\n",
    "#     print(\"f1-score:\", f1)\n",
    "#     print(\"Confusion Matrix: \\n\", confusion_matrix)\n",
    "    print(str(acc) + \"\\t\" + str(precision) + \"\\t\" + str(recall) + \"\\t\" + str(f1) + \"\\t\" + str(roc_auc))\n",
    "    print(confusion_matrix)\n",
    "\n",
    "    return clf"
   ]
  },
  {
   "cell_type": "markdown",
   "metadata": {},
   "source": [
    "#### Testing"
   ]
  },
  {
   "cell_type": "code",
   "execution_count": null,
   "metadata": {},
   "outputs": [],
   "source": [
    "dfTrain, dfDev = transformData(rdfTrain, rdfDev, n_categories = 2)"
   ]
  },
  {
   "cell_type": "code",
   "execution_count": 32,
   "metadata": {},
   "outputs": [],
   "source": [
    "trainFeatures, devFeatures = featureGeneration(dfTrain, dfDev, method = 'BOW')\n",
    "xTrain, yTrain, xDev, yDev = splitData(trainFeatures, devFeatures, dfTrain, dfDev)"
   ]
  },
  {
   "cell_type": "code",
   "execution_count": 54,
   "metadata": {},
   "outputs": [
    {
     "name": "stdout",
     "output_type": "stream",
     "text": [
      "0.7137854773313674\t0.531810766721044\t0.20477386934673367\t0.29569160997732424\t0.5649586613296005\n",
      "[[3547  287]\n",
      " [1266  326]]\n"
     ]
    }
   ],
   "source": [
    "clf = model(xTrain, yTrain, xDev, yDev, method = 'Naive Bayes')"
   ]
  },
  {
   "cell_type": "markdown",
   "metadata": {},
   "source": [
    "## Not working - Do not run"
   ]
  },
  {
   "cell_type": "code",
   "execution_count": null,
   "metadata": {},
   "outputs": [],
   "source": [
    "from sklearn.tree import export_graphviz\n",
    "from sklearn.externals.six import StringIO  \n",
    "from IPython.display import Image  \n",
    "import pydotplus\n",
    "\n",
    "dot_data = StringIO()\n",
    "export_graphviz(clf, out_file=dot_data,  \n",
    "                filled=True, rounded=True,\n",
    "                special_characters=True, class_names=['0','1'])\n",
    "#                 feature_names = feature_cols, \n",
    "graph = pydotplus.graph_from_dot_data(dot_data.getvalue())  \n",
    "# graph.write_png('diabetes.png')\n",
    "Image(graph.create_png())"
   ]
  },
  {
   "cell_type": "code",
   "execution_count": null,
   "metadata": {},
   "outputs": [],
   "source": [
    "from sklearn.tree import DecisionTreeClassifier, export_graphviz\n",
    "from sklearn import tree\n",
    "from sklearn.datasets import load_wine\n",
    "from IPython.display import SVG\n",
    "from graphviz import Source\n",
    "from IPython.display import display\n",
    "# load dataset\n",
    "data = load_wine()\n",
    "\n",
    "# feature matrix\n",
    "X = data.data\n",
    "\n",
    "# target vector\n",
    "y = data.target\n",
    "\n",
    "# class labels\n",
    "labels = data.feature_names\n",
    "\n",
    "# print dataset description\n",
    "print(data.DESCR)\n",
    "estimator = DecisionTreeClassifier()\n",
    "estimator.fit(X, y)\n",
    "\n",
    "graph = Source(tree.export_graphviz(estimator, out_file=None\n",
    "   , feature_names=labels, class_names=['0', '1', '2'] \n",
    "   , filled = True))\n",
    "display(SVG(graph.pipe(format='svg')))"
   ]
  }
 ],
 "metadata": {
  "kernelspec": {
   "display_name": "Python 3",
   "language": "python",
   "name": "python3"
  },
  "language_info": {
   "codemirror_mode": {
    "name": "ipython",
    "version": 3
   },
   "file_extension": ".py",
   "mimetype": "text/x-python",
   "name": "python",
   "nbconvert_exporter": "python",
   "pygments_lexer": "ipython3",
   "version": "3.6.10"
  }
 },
 "nbformat": 4,
 "nbformat_minor": 4
}
