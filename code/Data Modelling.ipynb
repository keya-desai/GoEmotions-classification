{
 "cells": [
  {
   "cell_type": "code",
   "execution_count": 35,
   "metadata": {},
   "outputs": [],
   "source": [
    "import pandas as pd\n",
    "import seaborn as sns\n",
    "import numpy as np\n",
    "import matplotlib.pyplot as plt\n",
    "import nltk\n",
    "\n",
    "# Bag of words and Tokenizer\n",
    "from nltk.tokenize import sent_tokenize\n",
    "from nltk.tokenize import RegexpTokenizer\n",
    "from nltk.tokenize import TweetTokenizer\n",
    "from sklearn.feature_extraction.text import CountVectorizer\n",
    "from sklearn.feature_extraction.text import TfidfVectorizer  # TF-IDF\n",
    "from sklearn.preprocessing import label_binarize\n",
    "\n",
    "# Classification methods\n",
    "from sklearn.naive_bayes import MultinomialNB   # Naive Bayes\n",
    "from sklearn.tree import DecisionTreeClassifier  # Decision Tree\n",
    "from sklearn.neural_network import MLPClassifier # Multi-Layer Perceptron\n",
    "from sklearn.neighbors.classification import KNeighborsClassifier # KNN\n",
    "\n",
    "\n",
    "# Import scikit-learn metrics module for accuracy calculation\n",
    "from sklearn import metrics\n",
    "from sklearn.metrics import classification_report"
   ]
  },
  {
   "cell_type": "markdown",
   "metadata": {},
   "source": [
    "### Training data"
   ]
  },
  {
   "cell_type": "code",
   "execution_count": 36,
   "metadata": {},
   "outputs": [
    {
     "data": {
      "text/html": [
       "<div>\n",
       "<style scoped>\n",
       "    .dataframe tbody tr th:only-of-type {\n",
       "        vertical-align: middle;\n",
       "    }\n",
       "\n",
       "    .dataframe tbody tr th {\n",
       "        vertical-align: top;\n",
       "    }\n",
       "\n",
       "    .dataframe thead th {\n",
       "        text-align: right;\n",
       "    }\n",
       "</style>\n",
       "<table border=\"1\" class=\"dataframe\">\n",
       "  <thead>\n",
       "    <tr style=\"text-align: right;\">\n",
       "      <th></th>\n",
       "      <th>text</th>\n",
       "      <th>label</th>\n",
       "      <th>id</th>\n",
       "    </tr>\n",
       "  </thead>\n",
       "  <tbody>\n",
       "    <tr>\n",
       "      <th>0</th>\n",
       "      <td>My favourite food is anything I didn't have to...</td>\n",
       "      <td>27</td>\n",
       "      <td>eebbqej</td>\n",
       "    </tr>\n",
       "    <tr>\n",
       "      <th>1</th>\n",
       "      <td>Now if he does off himself, everyone will thin...</td>\n",
       "      <td>27</td>\n",
       "      <td>ed00q6i</td>\n",
       "    </tr>\n",
       "    <tr>\n",
       "      <th>2</th>\n",
       "      <td>WHY THE FUCK IS BAYLESS ISOING</td>\n",
       "      <td>2</td>\n",
       "      <td>eezlygj</td>\n",
       "    </tr>\n",
       "    <tr>\n",
       "      <th>3</th>\n",
       "      <td>To make her feel threatened</td>\n",
       "      <td>14</td>\n",
       "      <td>ed7ypvh</td>\n",
       "    </tr>\n",
       "    <tr>\n",
       "      <th>4</th>\n",
       "      <td>Dirty Southern Wankers</td>\n",
       "      <td>3</td>\n",
       "      <td>ed0bdzj</td>\n",
       "    </tr>\n",
       "  </tbody>\n",
       "</table>\n",
       "</div>"
      ],
      "text/plain": [
       "                                                text label       id\n",
       "0  My favourite food is anything I didn't have to...    27  eebbqej\n",
       "1  Now if he does off himself, everyone will thin...    27  ed00q6i\n",
       "2                     WHY THE FUCK IS BAYLESS ISOING     2  eezlygj\n",
       "3                        To make her feel threatened    14  ed7ypvh\n",
       "4                             Dirty Southern Wankers     3  ed0bdzj"
      ]
     },
     "execution_count": 36,
     "metadata": {},
     "output_type": "execute_result"
    }
   ],
   "source": [
    "data_path = '../data/'\n",
    "rdfTrain = pd.read_csv(data_path + 'train.tsv', sep = '\\t', header = None, names = ['text', 'label', 'id'])\n",
    "rdfTrain.head()"
   ]
  },
  {
   "cell_type": "markdown",
   "metadata": {},
   "source": [
    "### Dev data"
   ]
  },
  {
   "cell_type": "code",
   "execution_count": 37,
   "metadata": {},
   "outputs": [
    {
     "name": "stdout",
     "output_type": "stream",
     "text": [
      "<class 'pandas.core.frame.DataFrame'>\n",
      "RangeIndex: 5426 entries, 0 to 5425\n",
      "Data columns (total 3 columns):\n",
      " #   Column  Non-Null Count  Dtype \n",
      "---  ------  --------------  ----- \n",
      " 0   text    5426 non-null   object\n",
      " 1   label   5426 non-null   object\n",
      " 2   id      5426 non-null   object\n",
      "dtypes: object(3)\n",
      "memory usage: 127.3+ KB\n"
     ]
    }
   ],
   "source": [
    "# validation set\n",
    "data_path = '../data/'\n",
    "rdfDev = pd.read_csv(data_path + 'dev.tsv', sep = '\\t', header = None, names = ['text', 'label', 'id'])\n",
    "rdfDev.info()"
   ]
  },
  {
   "cell_type": "markdown",
   "metadata": {},
   "source": [
    "### Test data"
   ]
  },
  {
   "cell_type": "code",
   "execution_count": 38,
   "metadata": {},
   "outputs": [
    {
     "name": "stdout",
     "output_type": "stream",
     "text": [
      "<class 'pandas.core.frame.DataFrame'>\n",
      "RangeIndex: 5427 entries, 0 to 5426\n",
      "Data columns (total 3 columns):\n",
      " #   Column  Non-Null Count  Dtype \n",
      "---  ------  --------------  ----- \n",
      " 0   text    5427 non-null   object\n",
      " 1   label   5427 non-null   object\n",
      " 2   id      5427 non-null   object\n",
      "dtypes: object(3)\n",
      "memory usage: 127.3+ KB\n"
     ]
    }
   ],
   "source": [
    "# test set\n",
    "data_path = '../data/'\n",
    "rdfTest = pd.read_csv(data_path + 'test.tsv', sep = '\\t', header = None, names = ['text', 'label', 'id'])\n",
    "rdfTest.info()"
   ]
  },
  {
   "cell_type": "markdown",
   "metadata": {},
   "source": [
    "#### Neutral/Non-neutral"
   ]
  },
  {
   "cell_type": "code",
   "execution_count": 39,
   "metadata": {},
   "outputs": [],
   "source": [
    "def label_neutral(row):\n",
    "    if row['label'] == '27':\n",
    "        return 1\n",
    "    else:\n",
    "        return 0"
   ]
  },
  {
   "cell_type": "markdown",
   "metadata": {},
   "source": [
    "#### 3 categories: Positive, negative and Neutral"
   ]
  },
  {
   "cell_type": "code",
   "execution_count": 40,
   "metadata": {},
   "outputs": [],
   "source": [
    "pos_labels = ['admiration','approval', 'amusement', 'caring', 'desire', \n",
    "              'excitement', 'gratitude', 'joy', 'love','optimism', 'pride', 'relief']\n",
    "neg_labels = ['anger', 'annoyance', 'disappointment', 'disapproval', 'disgust',\n",
    "              'embarrassment','fear', 'grief', 'nervousness', 'remorse', 'sadness']\n",
    "ambi_labels = ['confusion', 'curiosity', 'realization', 'surprise']"
   ]
  },
  {
   "cell_type": "code",
   "execution_count": 41,
   "metadata": {},
   "outputs": [],
   "source": [
    "emotion_to_idx = {\n",
    "    'admiration' : '0',\n",
    "    'amusement' : '1',\n",
    "    'anger' : '2',\n",
    "    'annoyance' : '3',\n",
    "    'approval' : '4',\n",
    "    'caring' : '5',\n",
    "    'confusion' : '6',\n",
    "    'curiosity' : '7',\n",
    "    'desire' : '8',\n",
    "    'disappointment' : '9',\n",
    "    'disapproval' : '10',\n",
    "    'disgust' : '11',\n",
    "    'embarrassment' : '12',\n",
    "    'excitement' : '13',\n",
    "    'fear' : '14',\n",
    "    'gratitude' : '15',\n",
    "    'grief' : '16',\n",
    "    'joy' : '17',\n",
    "    'love' : '18',\n",
    "    'nervousness' : '19',\n",
    "    'optimism' : '20',\n",
    "    'pride' : '21',\n",
    "    'realization' : '22',\n",
    "    'relief' : '23',\n",
    "    'remorse' : '24',\n",
    "    'sadness' : '25',\n",
    "    'surprise' : '26',\n",
    "    'neutral' : '27'\n",
    "}"
   ]
  },
  {
   "cell_type": "code",
   "execution_count": 42,
   "metadata": {},
   "outputs": [
    {
     "data": {
      "text/plain": [
       "{'0': 'admiration',\n",
       " '1': 'amusement',\n",
       " '2': 'anger',\n",
       " '3': 'annoyance',\n",
       " '4': 'approval',\n",
       " '5': 'caring',\n",
       " '6': 'confusion',\n",
       " '7': 'curiosity',\n",
       " '8': 'desire',\n",
       " '9': 'disappointment',\n",
       " '10': 'disapproval',\n",
       " '11': 'disgust',\n",
       " '12': 'embarrassment',\n",
       " '13': 'excitement',\n",
       " '14': 'fear',\n",
       " '15': 'gratitude',\n",
       " '16': 'grief',\n",
       " '17': 'joy',\n",
       " '18': 'love',\n",
       " '19': 'nervousness',\n",
       " '20': 'optimism',\n",
       " '21': 'pride',\n",
       " '22': 'realization',\n",
       " '23': 'relief',\n",
       " '24': 'remorse',\n",
       " '25': 'sadness',\n",
       " '26': 'surprise',\n",
       " '27': 'neutral'}"
      ]
     },
     "execution_count": 42,
     "metadata": {},
     "output_type": "execute_result"
    }
   ],
   "source": [
    "label_to_emotion = {j:i for i, j in emotion_to_idx.items()}\n",
    "label_to_emotion"
   ]
  },
  {
   "cell_type": "code",
   "execution_count": 43,
   "metadata": {},
   "outputs": [],
   "source": [
    "def label_pos_neg_neutral(row):\n",
    "    '''\n",
    "    Sentiment Analysis label:\n",
    "    0 - Negative\n",
    "    1 - Positive\n",
    "    2 - Neutral/Ambigous\n",
    "    '''\n",
    "    sentiment = [0, 0, 0]\n",
    "    labels = row['label'].split(\",\")\n",
    "    for l in labels:\n",
    "        label = label_to_emotion[l] \n",
    "        if label in pos_labels:\n",
    "            sentiment[1] += 1\n",
    "        elif label in neg_labels:\n",
    "            sentiment[0] += 1\n",
    "        else:\n",
    "            sentiment[2] += 1\n",
    "    return np.argmax(np.array(sentiment))"
   ]
  },
  {
   "cell_type": "code",
   "execution_count": 44,
   "metadata": {},
   "outputs": [],
   "source": [
    "anger_list = [ \"anger\", \"annoyance\", \"disapproval\", \"disgust\"]\n",
    "fear_list = [\"fear\", \"nervousness\"]\n",
    "joy_list = [\"joy\", \"amusement\", \"approval\", \"excitement\", \"gratitude\",\"love\", \"optimism\", \"relief\", \"pride\", \"admiration\", \"desire\", \"caring\"]\n",
    "sadness_list = [\"sadness\", \"disappointment\", \"embarrassment\", \"grief\", \"remorse\"]\n",
    "surprise_list = [\"surprise\", \"realization\", \"confusion\", \"curiosity\"]"
   ]
  },
  {
   "cell_type": "code",
   "execution_count": 45,
   "metadata": {},
   "outputs": [],
   "source": [
    "def label_emotion_group(row):\n",
    "    '''\n",
    "    Groupping Emotion Label:\n",
    "    0 - Anger, 1 - Fear, 2- Joy, \n",
    "    3 - Sadness, 4 - Surprise, 5 - Neutral/Ambigous\n",
    "    '''\n",
    "    sentiment = [0]*6\n",
    "    labels = row['label'].split(\",\")\n",
    "    for l in labels:\n",
    "        if l == '27': \n",
    "            return 5 # Neutral\n",
    "        \n",
    "        label = label_to_emotion[l]\n",
    "        if label in anger_list:\n",
    "            sentiment[0] += 1\n",
    "        elif label in fear_list:\n",
    "            sentiment[1] += 1\n",
    "        elif label in joy_list:\n",
    "            sentiment[2] += 1\n",
    "        elif label in sadness_list:\n",
    "            sentiment[3] += 1\n",
    "        elif label in surprise_list:\n",
    "            sentiment[4] += 1\n",
    "        else:\n",
    "            sentiment[5] += 1\n",
    "    return np.argmax(np.array(sentiment))"
   ]
  },
  {
   "cell_type": "code",
   "execution_count": 46,
   "metadata": {},
   "outputs": [],
   "source": [
    "def transformData(rdfTrain, rdfDev,rdfTest, n_categories = 2):\n",
    "    \n",
    "    dfTrain, dfDev, dfTest = rdfTrain, rdfDev, rdfTest\n",
    "    if n_categories == 2:\n",
    "        dfTrain[\"labels\"] = dfTrain.apply(lambda row: label_neutral(row), axis = 1)\n",
    "        dfDev[\"labels\"] = dfDev.apply(lambda row: label_neutral(row), axis = 1)\n",
    "        dfTest[\"labels\"] = dfTest.apply(lambda row: label_neutral(row), axis = 1)\n",
    "    \n",
    "    if n_categories == 3:\n",
    "        dfTrain[\"labels\"] = dfTrain.apply(lambda row: label_pos_neg_neutral(row), axis = 1)\n",
    "        dfDev[\"labels\"] = dfDev.apply(lambda row: label_pos_neg_neutral(row), axis = 1)\n",
    "        dfTest[\"labels\"] = dfTest.apply(lambda row: label_pos_neg_neutral(row), axis = 1)\n",
    "        \n",
    "    if n_categories == 6:\n",
    "        dfTrain[\"labels\"] = dfTrain.apply(lambda row: label_emotion_group(row), axis = 1)\n",
    "        dfDev[\"labels\"] = dfDev.apply(lambda row: label_emotion_group(row), axis = 1)\n",
    "        dfTest[\"labels\"] = dfTest.apply(lambda row: label_emotion_group(row), axis = 1)\n",
    "    \n",
    "    print(\"Training distribution: \", dfTrain.labels.value_counts())\n",
    "    print(\"Dev data distribution: \", dfDev.labels.value_counts())\n",
    "    print(\"Test data distribution: \", dfTest.labels.value_counts())\n",
    "        \n",
    "    return dfTrain, dfDev, dfTest"
   ]
  },
  {
   "cell_type": "code",
   "execution_count": 15,
   "metadata": {},
   "outputs": [
    {
     "name": "stdout",
     "output_type": "stream",
     "text": [
      "Training distribution:  0    30587\n",
      "1    12823\n",
      "Name: labels, dtype: int64\n",
      "Dev data distribution:  0    3834\n",
      "1    1592\n",
      "Name: labels, dtype: int64\n",
      "Dev data distribution:  0    3834\n",
      "1    1592\n",
      "Name: labels, dtype: int64\n"
     ]
    }
   ],
   "source": [
    "dfTrain, dfDev, dfTest = transformData(rdfTrain, rdfDev, rdfTest, n_categories = 2)"
   ]
  },
  {
   "cell_type": "code",
   "execution_count": 27,
   "metadata": {},
   "outputs": [
    {
     "name": "stdout",
     "output_type": "stream",
     "text": [
      "Training distribution:  2    17021\n",
      "1    16628\n",
      "0     9761\n",
      "Name: labels, dtype: int64\n",
      "Dev data distribution:  1    2106\n",
      "2    2096\n",
      "0    1224\n",
      "Name: labels, dtype: int64\n",
      "Dev data distribution:  1    2106\n",
      "2    2096\n",
      "0    1224\n",
      "Name: labels, dtype: int64\n"
     ]
    }
   ],
   "source": [
    "dfTrain, dfDev, dfTest = transformData(rdfTrain, rdfDev, rdfTest, n_categories = 3)"
   ]
  },
  {
   "cell_type": "code",
   "execution_count": 47,
   "metadata": {},
   "outputs": [
    {
     "name": "stdout",
     "output_type": "stream",
     "text": [
      "Training distribution:  2    16327\n",
      "5    14219\n",
      "0     5829\n",
      "4     3888\n",
      "3     2489\n",
      "1      658\n",
      "Name: labels, dtype: int64\n",
      "Dev data distribution:  2    2067\n",
      "5    1766\n",
      "0     748\n",
      "4     466\n",
      "3     289\n",
      "1      90\n",
      "Name: labels, dtype: int64\n",
      "Test data distribution:  2    1977\n",
      "5    1787\n",
      "0     777\n",
      "4     494\n",
      "3     304\n",
      "1      88\n",
      "Name: labels, dtype: int64\n"
     ]
    }
   ],
   "source": [
    "dfTrain, dfDev, dfTest = transformData(rdfTrain, rdfDev, rdfTest, n_categories = 6)"
   ]
  },
  {
   "cell_type": "code",
   "execution_count": 48,
   "metadata": {},
   "outputs": [],
   "source": [
    "dfTrain = dfTrain[['text', 'labels']]\n",
    "dfDev = dfDev[['text', 'labels']]\n",
    "dfTest = dfTest[['text', 'labels']]"
   ]
  },
  {
   "cell_type": "code",
   "execution_count": 49,
   "metadata": {},
   "outputs": [],
   "source": [
    "data_path = '../data/labelled_data/'\n",
    "dfTrain.to_csv(data_path + 'train.tsv', sep='\\t', header=False, index=False)\n",
    "dfDev.to_csv(data_path + 'dev.tsv', sep='\\t', header=False, index=False)\n",
    "dfTest.to_csv(data_path + 'test.tsv', sep='\\t', header=False, index=False)"
   ]
  },
  {
   "cell_type": "markdown",
   "metadata": {},
   "source": [
    "#### Splitting data"
   ]
  },
  {
   "cell_type": "code",
   "execution_count": 19,
   "metadata": {},
   "outputs": [],
   "source": [
    "def splitData(trainFeatures, devFeatures, dfTrain, dfDev):\n",
    "    xTrain, yTrain = trainFeatures, dfTrain['labels']\n",
    "    xDev, yDev = devFeatures, dfDev['labels']\n",
    "    \n",
    "    print(\"Dev : \", xDev.shape, yDev.shape)\n",
    "    print(\"Train : \", xTrain.shape, yTrain.shape)\n",
    "    \n",
    "    return xTrain, yTrain, xDev, yDev"
   ]
  },
  {
   "cell_type": "markdown",
   "metadata": {},
   "source": [
    "#### Feature Generation - TFID & Bag of words"
   ]
  },
  {
   "cell_type": "code",
   "execution_count": 20,
   "metadata": {},
   "outputs": [],
   "source": [
    "def featureGeneration(dfTrain, dfDev, method = 'BOW'):\n",
    "    if method == 'BOW':\n",
    "        #tokenizer to remove unwanted elements from out data like symbols and numbers\n",
    "#         token = RegexpTokenizer(r'[a-zA-Z0-9]+')\n",
    "        token = TweetTokenizer(strip_handles=True, reduce_len=True)\n",
    "        cv = CountVectorizer(lowercase=True, stop_words='english', ngram_range = (1,1), tokenizer = token.tokenize)\n",
    "        trainFeatures = cv.fit_transform(dfTrain['text'])\n",
    "        devFeatures = cv.transform(dfDev['text'])\n",
    "    \n",
    "    if method == 'TF-IDF':\n",
    "        tf = TfidfVectorizer()\n",
    "        trainFeatures = tf.fit_transform(dfTrain['text'])\n",
    "        devFeatures = tf.transform(dfDev['text'])\n",
    "        \n",
    "    return trainFeatures, devFeatures"
   ]
  },
  {
   "cell_type": "markdown",
   "metadata": {},
   "source": [
    "#### Modelling - Naive Bayes"
   ]
  },
  {
   "cell_type": "code",
   "execution_count": 21,
   "metadata": {},
   "outputs": [],
   "source": [
    "def naiveBayes(xTrain, yTrain, xDev, yDev):\n",
    "    # Model Generation Using Multinomial Naive Bayes\n",
    "    clf = MultinomialNB().fit(xTrain, yTrain)\n",
    "    predicted= clf.predict(xDev)\n",
    "    print(\"MultinomialNB Accuracy:\", metrics.accuracy_score(yDev, predicted))"
   ]
  },
  {
   "cell_type": "code",
   "execution_count": 34,
   "metadata": {},
   "outputs": [],
   "source": [
    "def model(xTrain, yTrain, xDev, yDev, method = 'Naive Bayes'):\n",
    "    \n",
    "    num_classes = len(yTrain.unique())\n",
    "    print(\"Num classes: \", num_classes)\n",
    "    \n",
    "    if method == 'Naive Bayes':\n",
    "        clf = MultinomialNB()\n",
    "    \n",
    "    if method == 'Decision Trees':\n",
    "        clf = DecisionTreeClassifier()\n",
    "\n",
    "    if method == 'MLP':\n",
    "        clf = MLPClassifier()\n",
    "    \n",
    "    if method == 'KNN':\n",
    "        clf = KNeighborsClassifier(n_neighbors=5)\n",
    "        \n",
    "    clf = clf.fit(xTrain, yTrain)\n",
    "    predicted= clf.predict(xDev)\n",
    "    \n",
    "#   Evaluation metrics\n",
    "\n",
    "    Y_test = label_binarize(yDev, classes=[0, 1, 2])\n",
    "    Y_score = label_binarize(predicted, classes=[0, 1, 2])\n",
    "    \n",
    "    \n",
    "    target_names = [str(i) for i in range(num_classes)]\n",
    "    print(classification_report(yDev, predicted, target_names=target_names))\n",
    "    acc = metrics.accuracy_score(Y_test, Y_score)\n",
    "    precision = metrics.precision_score(Y_test, Y_score, average='macro')\n",
    "    recall = metrics.recall_score(Y_test, Y_score,average='macro' )\n",
    "    roc_auc = metrics.roc_auc_score(Y_test, Y_score,average='macro')\n",
    "    f1 = metrics.f1_score(Y_test, Y_score, average='macro')\n",
    "    confusion_matrix = metrics.confusion_matrix(yDev, predicted)\n",
    "\n",
    "    print(str(acc) + \"\\t\" + str(precision) + \"\\t\" + str(recall) + \"\\t\" + str(f1) + \"\\t\" + str(roc_auc))\n",
    "    print(confusion_matrix)\n",
    "        \n",
    "    #     print(\"Accuracy:\", acc)\n",
    "    #     print(\"Precision:\", precision)\n",
    "    #     print(\"Recall:\", recall)\n",
    "    #     print(\"ROC AUC: \", roc_auc)\n",
    "    #     print(\"f1-score:\", f1)\n",
    "    #     print(\"Confusion Matrix: \\n\", confusion_matrix)\n",
    "    return clf"
   ]
  },
  {
   "cell_type": "markdown",
   "metadata": {},
   "source": [
    "#### Testing"
   ]
  },
  {
   "cell_type": "code",
   "execution_count": 23,
   "metadata": {},
   "outputs": [
    {
     "ename": "TypeError",
     "evalue": "transformData() missing 1 required positional argument: 'rdfTest'",
     "output_type": "error",
     "traceback": [
      "\u001b[0;31m---------------------------------------------------------------------------\u001b[0m",
      "\u001b[0;31mTypeError\u001b[0m                                 Traceback (most recent call last)",
      "\u001b[0;32m<ipython-input-23-882cee720f08>\u001b[0m in \u001b[0;36m<module>\u001b[0;34m\u001b[0m\n\u001b[0;32m----> 1\u001b[0;31m \u001b[0mdfTrain\u001b[0m\u001b[0;34m,\u001b[0m \u001b[0mdfDev\u001b[0m \u001b[0;34m=\u001b[0m \u001b[0mtransformData\u001b[0m\u001b[0;34m(\u001b[0m\u001b[0mrdfTrain\u001b[0m\u001b[0;34m,\u001b[0m \u001b[0mrdfDev\u001b[0m\u001b[0;34m,\u001b[0m \u001b[0mn_categories\u001b[0m \u001b[0;34m=\u001b[0m \u001b[0;36m3\u001b[0m\u001b[0;34m)\u001b[0m\u001b[0;34m\u001b[0m\u001b[0;34m\u001b[0m\u001b[0m\n\u001b[0m",
      "\u001b[0;31mTypeError\u001b[0m: transformData() missing 1 required positional argument: 'rdfTest'"
     ]
    }
   ],
   "source": [
    "dfTrain, dfDev, dfTest = transformData(rdfTrain, rdfDev, rdfTest, n_categories = 3)"
   ]
  },
  {
   "cell_type": "code",
   "execution_count": 29,
   "metadata": {},
   "outputs": [
    {
     "name": "stdout",
     "output_type": "stream",
     "text": [
      "Dev :  (5426, 27748) (5426,)\n",
      "Train :  (43410, 27748) (43410,)\n"
     ]
    }
   ],
   "source": [
    "trainFeatures, devFeatures = featureGeneration(dfTrain, dfDev, method = 'BOW')\n",
    "xTrain, yTrain, xDev, yDev = splitData(trainFeatures, devFeatures, dfTrain, dfDev)"
   ]
  },
  {
   "cell_type": "code",
   "execution_count": 32,
   "metadata": {
    "scrolled": true
   },
   "outputs": [
    {
     "name": "stdout",
     "output_type": "stream",
     "text": [
      "Num classes:  3\n",
      "              precision    recall  f1-score   support\n",
      "\n",
      "           0       0.60      0.42      0.50      1224\n",
      "           1       0.67      0.78      0.72      2106\n",
      "           2       0.63      0.64      0.64      2096\n",
      "\n",
      "    accuracy                           0.64      5426\n",
      "   macro avg       0.64      0.61      0.62      5426\n",
      "weighted avg       0.64      0.64      0.64      5426\n",
      "\n",
      "0.6446737928492444\t0.6350305783785551\t0.6134100501585409\t0.6175518343474856\t0.7136099701859755\n",
      "[[ 515  275  434]\n",
      " [ 107 1637  362]\n",
      " [ 232  518 1346]]\n"
     ]
    }
   ],
   "source": [
    "clf = model(xTrain, yTrain, xDev, yDev, method = 'Naive Bayes')"
   ]
  },
  {
   "cell_type": "code",
   "execution_count": 33,
   "metadata": {},
   "outputs": [
    {
     "name": "stdout",
     "output_type": "stream",
     "text": [
      "Num classes:  3\n",
      "              precision    recall  f1-score   support\n",
      "\n",
      "           0       0.51      0.45      0.48      1224\n",
      "           1       0.70      0.70      0.70      2106\n",
      "           2       0.60      0.64      0.62      2096\n",
      "\n",
      "    accuracy                           0.62      5426\n",
      "   macro avg       0.60      0.60      0.60      5426\n",
      "weighted avg       0.62      0.62      0.62      5426\n",
      "\n",
      "0.6212679690379653\t0.6034145840733003\t0.5976367334447462\t0.5997755174508467\t0.7014164235538557\n",
      "[[ 553  237  434]\n",
      " [ 172 1480  454]\n",
      " [ 362  396 1338]]\n"
     ]
    }
   ],
   "source": [
    "clf = model(xTrain, yTrain, xDev, yDev, method = 'Decision Trees')"
   ]
  },
  {
   "cell_type": "code",
   "execution_count": 89,
   "metadata": {},
   "outputs": [
    {
     "name": "stdout",
     "output_type": "stream",
     "text": [
      "Num classes:  3\n",
      "0.643199410246959\t0.6273366377374335\t0.6217137250353336\t0.6237179140443364\t0.7189175889999854\n",
      "[[ 599  228  397]\n",
      " [ 162 1559  385]\n",
      " [ 325  439 1332]]\n"
     ]
    },
    {
     "name": "stderr",
     "output_type": "stream",
     "text": [
      "/Users/prakruti/opt/anaconda3/lib/python3.8/site-packages/sklearn/neural_network/_multilayer_perceptron.py:587: UserWarning: Training interrupted by user.\n",
      "  warnings.warn(\"Training interrupted by user.\")\n"
     ]
    }
   ],
   "source": [
    "clf = model(xTrain, yTrain, xDev, yDev, method = 'MLP')"
   ]
  },
  {
   "cell_type": "code",
   "execution_count": 90,
   "metadata": {},
   "outputs": [
    {
     "name": "stdout",
     "output_type": "stream",
     "text": [
      "Num classes:  3\n",
      "0.5366752672318467\t0.5221607249073861\t0.4971860890822623\t0.49406711962069033\t0.6275996334488428\n",
      "[[ 308  227  689]\n",
      " [ 209 1078  819]\n",
      " [ 264  306 1526]]\n"
     ]
    }
   ],
   "source": [
    "clf = model(xTrain, yTrain, xDev, yDev, method = 'KNN')"
   ]
  },
  {
   "cell_type": "markdown",
   "metadata": {},
   "source": [
    "##### Grouping Emotions:"
   ]
  },
  {
   "cell_type": "code",
   "execution_count": 99,
   "metadata": {},
   "outputs": [
    {
     "name": "stdout",
     "output_type": "stream",
     "text": [
      "Training distribution:  2    16327\n",
      "5    14219\n",
      "0     5829\n",
      "4     3888\n",
      "3     2489\n",
      "1      658\n",
      "Name: class_label, dtype: int64\n",
      "Dev data distribution:  2    2067\n",
      "5    1766\n",
      "0     748\n",
      "4     466\n",
      "3     289\n",
      "1      90\n",
      "Name: class_label, dtype: int64\n"
     ]
    }
   ],
   "source": [
    "dfTrain, dfDev = transformData(rdfTrain, rdfDev, n_categories = 6)"
   ]
  },
  {
   "cell_type": "code",
   "execution_count": 100,
   "metadata": {},
   "outputs": [
    {
     "name": "stdout",
     "output_type": "stream",
     "text": [
      "Dev :  (5426, 27748) (5426,)\n",
      "Train :  (43410, 27748) (43410,)\n"
     ]
    }
   ],
   "source": [
    "trainFeatures, devFeatures = featureGeneration(dfTrain, dfDev, method = 'BOW')\n",
    "xTrain, yTrain, xDev, yDev = splitData(trainFeatures, devFeatures, dfTrain, dfDev)"
   ]
  },
  {
   "cell_type": "code",
   "execution_count": 101,
   "metadata": {},
   "outputs": [
    {
     "name": "stdout",
     "output_type": "stream",
     "text": [
      "Num classes:  6\n",
      "0.6295613711758201\t0.7142271939498975\t0.37247120454667626\t0.3604982793189578\t0.6225228344504737\n",
      "[[ 204    0  221    4    7  312]\n",
      " [  12    1   41    1    2   33]\n",
      " [  25    0 1723    2    6  311]\n",
      " [  13    0  136   28    0  112]\n",
      " [  18    0  160    1   54  233]\n",
      " [ 102    0  604    8   28 1024]]\n"
     ]
    }
   ],
   "source": [
    "clf = model(xTrain, yTrain, xDev, yDev, method = 'Naive Bayes')"
   ]
  },
  {
   "cell_type": "code",
   "execution_count": 102,
   "metadata": {},
   "outputs": [
    {
     "name": "stdout",
     "output_type": "stream",
     "text": [
      "Num classes:  6\n",
      "0.6420936232952451\t0.5111299252808686\t0.4358193046317352\t0.4650373620850754\t0.6711264486702068\n",
      "[[ 248    7  148   29   43  273]\n",
      " [  12   24   22    3    5   24]\n",
      " [  89    7 1466   44   66  395]\n",
      " [  42    1   49  104    9   84]\n",
      " [  31    6   70    8  177  174]\n",
      " [ 202    9  365   50  146  994]]\n"
     ]
    }
   ],
   "source": [
    "clf = model(xTrain, yTrain, xDev, yDev, method = 'Decision Trees')"
   ]
  },
  {
   "cell_type": "code",
   "execution_count": 103,
   "metadata": {},
   "outputs": [
    {
     "name": "stdout",
     "output_type": "stream",
     "text": [
      "Num classes:  6\n",
      "0.6653151492812385\t0.5637163698203279\t0.5374462919412974\t0.5501905521246677\t0.7256516899486872\n",
      "[[ 312    9  116   22   44  245]\n",
      " [   7   44   13    2    0   24]\n",
      " [ 110   10 1460   50   53  384]\n",
      " [  31    2   44  111   13   88]\n",
      " [  37    5   70   14  143  197]\n",
      " [ 202   14  322   52  144 1032]]\n"
     ]
    },
    {
     "name": "stderr",
     "output_type": "stream",
     "text": [
      "/Users/prakruti/opt/anaconda3/lib/python3.8/site-packages/sklearn/neural_network/_multilayer_perceptron.py:587: UserWarning: Training interrupted by user.\n",
      "  warnings.warn(\"Training interrupted by user.\")\n"
     ]
    }
   ],
   "source": [
    "clf = model(xTrain, yTrain, xDev, yDev, method = 'MLP')"
   ]
  },
  {
   "cell_type": "code",
   "execution_count": 104,
   "metadata": {},
   "outputs": [
    {
     "name": "stdout",
     "output_type": "stream",
     "text": [
      "Num classes:  6\n",
      "0.5903059343899743\t0.4750822282588765\t0.24938365987200614\t0.29613766531485924\t0.5877274797810733\n",
      "[[ 133    2  143    7   21  442]\n",
      " [  11    3   14    1    4   57]\n",
      " [  90    0 1110   14   36  817]\n",
      " [  15    1   48   32   11  182]\n",
      " [  32    1   69    5   96  263]\n",
      " [ 127    0  271    9  108 1251]]\n"
     ]
    }
   ],
   "source": [
    "clf = model(xTrain, yTrain, xDev, yDev, method = 'KNN')"
   ]
  },
  {
   "cell_type": "markdown",
   "metadata": {},
   "source": [
    "## Not working - Do not run"
   ]
  },
  {
   "cell_type": "code",
   "execution_count": null,
   "metadata": {},
   "outputs": [],
   "source": [
    "from sklearn.tree import export_graphviz\n",
    "from sklearn.externals.six import StringIO  \n",
    "from IPython.display import Image  \n",
    "import pydotplus\n",
    "\n",
    "dot_data = StringIO()\n",
    "export_graphviz(clf, out_file=dot_data,  \n",
    "                filled=True, rounded=True,\n",
    "                special_characters=True, class_names=['0','1'])\n",
    "#                 feature_names = feature_cols, \n",
    "graph = pydotplus.graph_from_dot_data(dot_data.getvalue())  \n",
    "# graph.write_png('diabetes.png')\n",
    "Image(graph.create_png())"
   ]
  },
  {
   "cell_type": "code",
   "execution_count": null,
   "metadata": {},
   "outputs": [],
   "source": [
    "from sklearn.tree import DecisionTreeClassifier, export_graphviz\n",
    "from sklearn import tree\n",
    "from sklearn.datasets import load_wine\n",
    "from IPython.display import SVG\n",
    "from graphviz import Source\n",
    "from IPython.display import display\n",
    "# load dataset\n",
    "data = load_wine()\n",
    "\n",
    "# feature matrix\n",
    "X = data.data\n",
    "\n",
    "# target vector\n",
    "y = data.target\n",
    "\n",
    "# class labels\n",
    "labels = data.feature_names\n",
    "\n",
    "# print dataset description\n",
    "print(data.DESCR)\n",
    "estimator = DecisionTreeClassifier()\n",
    "estimator.fit(X, y)\n",
    "\n",
    "graph = Source(tree.export_graphviz(estimator, out_file=None\n",
    "   , feature_names=labels, class_names=['0', '1', '2'] \n",
    "   , filled = True))\n",
    "display(SVG(graph.pipe(format='svg')))"
   ]
  }
 ],
 "metadata": {
  "kernelspec": {
   "display_name": "Python 3",
   "language": "python",
   "name": "python3"
  },
  "language_info": {
   "codemirror_mode": {
    "name": "ipython",
    "version": 3
   },
   "file_extension": ".py",
   "mimetype": "text/x-python",
   "name": "python",
   "nbconvert_exporter": "python",
   "pygments_lexer": "ipython3",
   "version": "3.8.3"
  }
 },
 "nbformat": 4,
 "nbformat_minor": 4
}
